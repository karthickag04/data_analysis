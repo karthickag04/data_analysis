{
 "cells": [
  {
   "cell_type": "code",
   "execution_count": 2,
   "metadata": {},
   "outputs": [
    {
     "name": "stdout",
     "output_type": "stream",
     "text": [
      "Defaulting to user installation because normal site-packages is not writeable\n",
      "Collecting textblob\n",
      "  Downloading textblob-0.18.0.post0-py3-none-any.whl.metadata (4.5 kB)\n",
      "Requirement already satisfied: nltk>=3.8 in c:\\programdata\\anaconda3\\lib\\site-packages (from textblob) (3.8.1)\n",
      "Requirement already satisfied: click in c:\\programdata\\anaconda3\\lib\\site-packages (from nltk>=3.8->textblob) (8.1.7)\n",
      "Requirement already satisfied: joblib in c:\\programdata\\anaconda3\\lib\\site-packages (from nltk>=3.8->textblob) (1.2.0)\n",
      "Requirement already satisfied: regex>=2021.8.3 in c:\\programdata\\anaconda3\\lib\\site-packages (from nltk>=3.8->textblob) (2023.10.3)\n",
      "Requirement already satisfied: tqdm in c:\\programdata\\anaconda3\\lib\\site-packages (from nltk>=3.8->textblob) (4.65.0)\n",
      "Requirement already satisfied: colorama in c:\\programdata\\anaconda3\\lib\\site-packages (from click->nltk>=3.8->textblob) (0.4.6)\n",
      "Downloading textblob-0.18.0.post0-py3-none-any.whl (626 kB)\n",
      "   ---------------------------------------- 0.0/626.3 kB ? eta -:--:--\n",
      "   ---------------------------------------- 0.0/626.3 kB ? eta -:--:--\n",
      "    --------------------------------------- 10.2/626.3 kB ? eta -:--:--\n",
      "    --------------------------------------- 10.2/626.3 kB ? eta -:--:--\n",
      "   -- ------------------------------------ 41.0/626.3 kB 326.8 kB/s eta 0:00:02\n",
      "   ---------------- ----------------------- 256.0/626.3 kB 1.6 MB/s eta 0:00:01\n",
      "   ---------------------------------------- 626.3/626.3 kB 3.0 MB/s eta 0:00:00\n",
      "Installing collected packages: textblob\n",
      "Successfully installed textblob-0.18.0.post0\n",
      "Note: you may need to restart the kernel to use updated packages.\n"
     ]
    }
   ],
   "source": [
    "%pip install textblob"
   ]
  },
  {
   "cell_type": "code",
   "execution_count": 5,
   "metadata": {},
   "outputs": [
    {
     "name": "stdout",
     "output_type": "stream",
     "text": [
      "Sentiment(polarity=0.625, subjectivity=0.75)\n"
     ]
    }
   ],
   "source": [
    "from textblob import TextBlob\n",
    "\n",
    "text = \"I love this library. It's amazing!\"\n",
    "blob = TextBlob(text)\n",
    "print(blob.sentiment)"
   ]
  },
  {
   "cell_type": "code",
   "execution_count": 6,
   "metadata": {},
   "outputs": [],
   "source": [
    "# Import necessary libraries\n",
    "from textblob import TextBlob\n",
    "import json\n",
    "import pandas as pd"
   ]
  },
  {
   "cell_type": "markdown",
   "metadata": {},
   "source": [
    "# --------------------------------------------------\n",
    "# UNSTRUCTURED DATA\n",
    "# --------------------------------------------------\n",
    "# Example: Analyzing text data for sentiment"
   ]
  },
  {
   "cell_type": "code",
   "execution_count": 8,
   "metadata": {},
   "outputs": [
    {
     "name": "stdout",
     "output_type": "stream",
     "text": [
      "Review: I love this product! It works perfectly.\n",
      "Sentiment: Positive\n",
      "\n",
      "Review: This is the worst purchase I have ever made.\n",
      "Sentiment: Negative\n",
      "\n",
      "Review: Not bad, but could be improved.\n",
      "Sentiment: Positive\n",
      "\n",
      "Review: Absolutely fantastic! Highly recommend it.\n",
      "Sentiment: Positive\n",
      "\n"
     ]
    }
   ],
   "source": [
    "\n",
    "# Sample unstructured data (text reviews)\n",
    "reviews = [\n",
    "    \"I love this product! It works perfectly.\",\n",
    "    \"This is the worst purchase I have ever made.\",\n",
    "    \"Not bad, but could be improved.\",\n",
    "    \"Absolutely fantastic! Highly recommend it.\"\n",
    "]\n",
    "\n",
    "# Perform sentiment analysis on each review\n",
    "for review in reviews:\n",
    "    # Create a TextBlob object for the review\n",
    "    blob = TextBlob(review)\n",
    "    # Determine sentiment polarity and categorize as Positive, Negative, or Neutral\n",
    "    sentiment = 'Positive' if blob.sentiment.polarity > 0 else 'Negative' if blob.sentiment.polarity < 0 else 'Neutral'\n",
    "    print(f\"Review: {review}\")\n",
    "    print(f\"Sentiment: {sentiment}\")\n",
    "    print()\n"
   ]
  },
  {
   "cell_type": "markdown",
   "metadata": {},
   "source": [
    "# --------------------------------------------------\n",
    "# SEMI-STRUCTURED DATA\n",
    "# --------------------------------------------------\n",
    "# Example: Processing JSON data"
   ]
  },
  {
   "cell_type": "code",
   "execution_count": 9,
   "metadata": {},
   "outputs": [
    {
     "name": "stdout",
     "output_type": "stream",
     "text": [
      "Name: John Doe\n",
      "Email: john@example.com\n",
      "Age: 30\n",
      "\n",
      "Name: Jane Smith\n",
      "Email: jane@example.com\n",
      "Age: 25\n",
      "\n",
      "Name: Emily Johnson\n",
      "Email: emily@example.com\n",
      "Age: 35\n",
      "\n"
     ]
    }
   ],
   "source": [
    "\n",
    "\n",
    "# Sample semi-structured data (JSON)\n",
    "json_data = '''\n",
    "[\n",
    "    {\"name\": \"John Doe\", \"email\": \"john@example.com\", \"age\": 30},\n",
    "    {\"name\": \"Jane Smith\", \"email\": \"jane@example.com\", \"age\": 25},\n",
    "    {\"name\": \"Emily Johnson\", \"email\": \"emily@example.com\", \"age\": 35}\n",
    "]\n",
    "'''\n",
    "\n",
    "# Parse the JSON data\n",
    "data = json.loads(json_data)\n",
    "\n",
    "# Print user information from the parsed JSON data\n",
    "for user in data:\n",
    "    print(f\"Name: {user['name']}\")\n",
    "    print(f\"Email: {user['email']}\")\n",
    "    print(f\"Age: {user['age']}\")\n",
    "    print()\n"
   ]
  },
  {
   "cell_type": "markdown",
   "metadata": {},
   "source": [
    "\n",
    "# --------------------------------------------------\n",
    "# STRUCTURED DATA\n",
    "# --------------------------------------------------\n",
    "# Example: Processing CSV data"
   ]
  },
  {
   "cell_type": "code",
   "execution_count": 13,
   "metadata": {},
   "outputs": [
    {
     "name": "stdout",
     "output_type": "stream",
     "text": [
      "DataFrame:\n",
      "            Name              Email  Age\n",
      "0       John Doe   john@example.com   30\n",
      "1     Jane Smith   jane@example.com   25\n",
      "2  Emily Johnson  emily@example.com   35\n",
      "\n",
      "Average Age: 30.0\n"
     ]
    }
   ],
   "source": [
    "import io\n",
    "\n",
    "# Sample structured data (CSV)\n",
    "csv_data = '''\n",
    "Name,Email,Age\n",
    "John Doe,john@example.com,30\n",
    "Jane Smith,jane@example.com,25\n",
    "Emily Johnson,emily@example.com,35\n",
    "'''\n",
    "\n",
    "# Create a DataFrame from the CSV data\n",
    "df = pd.read_csv(io.StringIO(csv_data))\n",
    "\n",
    "# Display the DataFrame\n",
    "print(\"DataFrame:\")\n",
    "print(df)\n",
    "\n",
    "# Perform basic analysis\n",
    "print(\"\\nAverage Age:\", df['Age'].mean())\n"
   ]
  }
 ],
 "metadata": {
  "kernelspec": {
   "display_name": "base",
   "language": "python",
   "name": "python3"
  },
  "language_info": {
   "codemirror_mode": {
    "name": "ipython",
    "version": 3
   },
   "file_extension": ".py",
   "mimetype": "text/x-python",
   "name": "python",
   "nbconvert_exporter": "python",
   "pygments_lexer": "ipython3",
   "version": "3.11.7"
  }
 },
 "nbformat": 4,
 "nbformat_minor": 2
}
