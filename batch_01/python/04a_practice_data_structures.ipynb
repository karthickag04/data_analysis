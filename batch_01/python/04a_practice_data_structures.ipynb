{
 "cells": [
  {
   "cell_type": "code",
   "execution_count": 11,
   "metadata": {},
   "outputs": [
    {
     "name": "stdout",
     "output_type": "stream",
     "text": [
      "List: ['apple', 'banana', 'cherry']\n",
      "\n",
      "\n",
      "apple\n",
      "banana\n",
      "cherry\n",
      "\n",
      "\n",
      "apple\n",
      "banana\n",
      "cherry\n",
      "\n",
      "\n",
      "Updated List: ['apple', 'banana', 'cherry', 'orange']\n"
     ]
    }
   ],
   "source": [
    "fruits = [\"apple\", \"banana\", \"cherry\"]\n",
    "\n",
    "print(\"List:\", fruits)\n",
    "print(\"\")\n",
    "print(\"\")\n",
    "print(fruits[0])\n",
    "print(fruits[1])\n",
    "print(fruits[2])\n",
    "print(\"\")\n",
    "print(\"\")\n",
    "for fruit in fruits:\n",
    "    print(fruit)\n",
    "\n",
    "print(\"\")\n",
    "print(\"\")\n",
    "\n",
    "\n",
    "fruits.append(\"orange\")\n",
    "print(\"Updated List:\", fruits)"
   ]
  },
  {
   "cell_type": "code",
   "execution_count": null,
   "metadata": {},
   "outputs": [],
   "source": [
    "# append(x): Adds an item x to the end of the list.\n",
    "# extend(iterable): Extends the list by appending all the items from the iterable.\n",
    "# insert(i, x): Inserts an item x at a given position i.\n",
    "# remove(x): Removes the first item from the list whose value is x.\n",
    "# pop([i]): Removes and returns the item at the given position i (default is the last item).\n",
    "# clear(): Removes all items from the list.\n",
    "# index(x[, start[, end]]): Returns the index of the first item whose value is x (raises a ValueError if not found).\n",
    "# count(x): Returns the number of times x appears in the list.\n",
    "# sort(key=None, reverse=False): Sorts the items of the list in place.\n",
    "# reverse(): Reverses the elements of the list in place.\n",
    "# copy(): Returns a shallow copy of the list."
   ]
  },
  {
   "cell_type": "code",
   "execution_count": 19,
   "metadata": {},
   "outputs": [
    {
     "name": "stdout",
     "output_type": "stream",
     "text": [
      "Dictionary: {'name': 'John', 'age': 20, 'course': 'Data Science'}\n",
      "John\n",
      "20\n",
      "Data Science\n"
     ]
    }
   ],
   "source": [
    "student = {\"name\": \"John\", \"age\": 20, \"course\": \"Data Science\"}\n",
    "print(\"Dictionary:\", student)\n",
    "print(student[\"name\"])\n",
    "print(student[\"age\"])\n",
    "print(student[\"course\"])"
   ]
  },
  {
   "cell_type": "code",
   "execution_count": 20,
   "metadata": {},
   "outputs": [
    {
     "name": "stdout",
     "output_type": "stream",
     "text": [
      "Updated Dictionary: {'name': 'John', 'age': 21, 'course': 'Data Science'}\n"
     ]
    }
   ],
   "source": [
    "student[\"age\"] = 21\n",
    "print(\"Updated Dictionary:\", student)"
   ]
  },
  {
   "cell_type": "code",
   "execution_count": null,
   "metadata": {},
   "outputs": [],
   "source": []
  },
  {
   "cell_type": "code",
   "execution_count": null,
   "metadata": {},
   "outputs": [],
   "source": [
    "# Adding Items\n",
    "\n",
    "# dict[key] = value: Add a key-value pair to the dictionary.\n",
    "# Removing Items\n",
    "\n",
    "# pop(key): Remove the item with the specified key.\n",
    "# popitem(): Remove and return the last inserted key-value pair.\n",
    "# del dict[key]: Delete the item with the specified key.\n",
    "# clear(): Remove all items from the dictionary.\n",
    "# Accessing Items\n",
    "\n",
    "# get(key, default): Return the value for the specified key if key is in dictionary, else default.\n",
    "# dict[key]: Access the value associated with the specified key.\n",
    "# Updating Items\n",
    "\n",
    "# update([other]): Update the dictionary with the key-value pairs from other, overwriting existing keys.\n",
    "# Iterating\n",
    "\n",
    "# keys(): Return a new view of the dictionary’s keys.\n",
    "# values(): Return a new view of the dictionary’s values.\n",
    "# items(): Return a new view of the dictionary’s key-value pairs.\n",
    "# Dictionary Comprehensions\n",
    "\n",
    "# {k: v for k, v in iterable}: Create a new dictionary from an iterable.\n",
    "# Copying\n",
    "\n",
    "# copy(): Return a shallow copy of the dictionary.\n",
    "# deepcopy(): Return a deep copy of the dictionary (requires import copy).\n",
    "# Default Values\n",
    "\n",
    "# setdefault(key, default): If key is in the dictionary, return its value. If not, insert key with a value of default and return default.\n",
    "# Checking for Keys\n",
    "\n",
    "# in operator: Check if a key is in the dictionary.\n",
    "# not in operator: Check if a key is not in the dictionary.\n",
    "# Length\n",
    "\n",
    "# len(dict): Return the number of items in the dictionary.\n",
    "# Merging\n",
    "\n",
    "# {**dict1, **dict2}: Merge two dictionaries (Python 3.5+).\n",
    "# These methods and operations allow you to perform a wide range of manipulations on dictionaries in Python.\n"
   ]
  },
  {
   "cell_type": "code",
   "execution_count": 21,
   "metadata": {},
   "outputs": [
    {
     "name": "stdout",
     "output_type": "stream",
     "text": [
      "Tuple: ('red', 'green', 'blue')\n",
      "First color: red\n"
     ]
    }
   ],
   "source": [
    "colors = (\"red\", \"green\", \"blue\")\n",
    "print(\"Tuple:\", colors)\n",
    "print(\"First color:\", colors[0])\n"
   ]
  },
  {
   "cell_type": "code",
   "execution_count": 23,
   "metadata": {},
   "outputs": [],
   "source": [
    "colors=list(colors)"
   ]
  },
  {
   "cell_type": "code",
   "execution_count": 24,
   "metadata": {},
   "outputs": [],
   "source": [
    "colors[0]=\"yellow\""
   ]
  },
  {
   "cell_type": "code",
   "execution_count": 26,
   "metadata": {},
   "outputs": [],
   "source": [
    "colors=tuple(colors)"
   ]
  },
  {
   "cell_type": "code",
   "execution_count": null,
   "metadata": {},
   "outputs": [],
   "source": []
  },
  {
   "cell_type": "markdown",
   "metadata": {},
   "source": [
    "## set"
   ]
  },
  {
   "cell_type": "code",
   "execution_count": 27,
   "metadata": {},
   "outputs": [
    {
     "name": "stdout",
     "output_type": "stream",
     "text": [
      "Set: {'cherry', 'banana', 'apple'}\n"
     ]
    }
   ],
   "source": [
    "# Creating a set\n",
    "fruit_set = {\"apple\", \"banana\", \"cherry\"}\n",
    "print(\"Set:\", fruit_set)\n"
   ]
  },
  {
   "cell_type": "code",
   "execution_count": 34,
   "metadata": {},
   "outputs": [
    {
     "name": "stdout",
     "output_type": "stream",
     "text": [
      "Union: {1, 2, 3, 4, 5, 6}\n",
      "Intersection: {3, 4}\n",
      "Difference: {1, 2}\n",
      "Difference: {5, 6}\n",
      "Difference: {1, 2, 5, 6}\n",
      "Symmetric Difference: {1, 2, 5, 6}\n"
     ]
    }
   ],
   "source": [
    "set1 = {1, 2, 3, 4}\n",
    "set2 = {3, 4, 5, 6}\n",
    "\n",
    "print(\"Union:\", set1.union(set2))\n",
    "print(\"Intersection:\", set1.intersection(set2))\n",
    "print(\"Difference:\", set1.difference(set2))\n",
    "print(\"Difference:\", set2.difference(set1))\n",
    "print(\"Difference:\", (set1.union(set2)).difference(set1.intersection(set2)))\n",
    "print(\"Symmetric Difference:\", set1.symmetric_difference(set2))\n"
   ]
  },
  {
   "cell_type": "code",
   "execution_count": null,
   "metadata": {},
   "outputs": [],
   "source": []
  }
 ],
 "metadata": {
  "kernelspec": {
   "display_name": "Python 3",
   "language": "python",
   "name": "python3"
  },
  "language_info": {
   "codemirror_mode": {
    "name": "ipython",
    "version": 3
   },
   "file_extension": ".py",
   "mimetype": "text/x-python",
   "name": "python",
   "nbconvert_exporter": "python",
   "pygments_lexer": "ipython3",
   "version": "3.12.4"
  }
 },
 "nbformat": 4,
 "nbformat_minor": 2
}
