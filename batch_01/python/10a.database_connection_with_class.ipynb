{
 "cells": [
  {
   "cell_type": "code",
   "execution_count": null,
   "metadata": {},
   "outputs": [],
   "source": [
    "# install mysql connector using below code\n",
    "# pip install mysql-connector-python"
   ]
  },
  {
   "cell_type": "code",
   "execution_count": 2,
   "metadata": {},
   "outputs": [],
   "source": [
    "import mysql.connector\n",
    "from mysql.connector import Error"
   ]
  },
  {
   "cell_type": "code",
   "execution_count": 32,
   "metadata": {},
   "outputs": [],
   "source": [
    "class dbconnectionclass():\n",
    "    \n",
    "    def mydb(self):\n",
    "        try:\n",
    "\n",
    "            con=mysql.connector.connect(\n",
    "                host='192.168.29.244',\n",
    "                user='test01',\n",
    "                password='test@123',\n",
    "                database='a'\n",
    "            )\n",
    "        except Error as e:\n",
    "            # print(e)\n",
    "            if \"Unknown database\" in str(e):\n",
    "                print(\"unable to found database with given name\")\n",
    "            elif \"Access denied\" in str(e):\n",
    "                print(\"Access denied to the user, type valid username and password\")\n",
    "        else:\n",
    "            return con"
   ]
  },
  {
   "cell_type": "code",
   "execution_count": 31,
   "metadata": {},
   "outputs": [
    {
     "name": "stdout",
     "output_type": "stream",
     "text": [
      "connected at :  <mysql.connector.connection.MySQLConnection object at 0x000001F12F411430>\n"
     ]
    }
   ],
   "source": [
    "con=dbconnectionclass()\n",
    "print('connected at : ', con.mydb())"
   ]
  },
  {
   "cell_type": "code",
   "execution_count": 36,
   "metadata": {},
   "outputs": [],
   "source": [
    "def read_datas():\n",
    "    connect=con.mydb()\n",
    "    result_cursor=connect.cursor()\n",
    "    result_cursor.execute(\"select first_name, last_name from student;\")\n",
    "    result=result_cursor.fetchall()  # result = [('k','k'),('Ragu','A')]\n",
    "    # connect.commit()\n",
    "    connect.close()\n",
    "    return result\n"
   ]
  },
  {
   "cell_type": "code",
   "execution_count": 43,
   "metadata": {},
   "outputs": [
    {
     "name": "stdout",
     "output_type": "stream",
     "text": [
      "[('k', 'k'), ('Ragu', 'A'), ('Rag1u', 'A11')]\n",
      "[('k', 'k'), ('Ragu', 'A'), ('Rag1u', 'A11')]\n",
      "('k', 'k')\n",
      "('Ragu', 'A')\n",
      "('Rag1u', 'A11')\n",
      "k\n",
      "k\n",
      "Ragu\n",
      "A\n",
      "Rag1u\n",
      "A11\n"
     ]
    }
   ],
   "source": [
    "print(read_datas())\n",
    "\n",
    "getrecords=read_datas()\n",
    "print(getrecords)\n",
    "print(getrecords[0])\n",
    "print(getrecords[1])\n",
    "print(getrecords[2])\n",
    "print(getrecords[0][0])\n",
    "print(getrecords[0][1])\n",
    "print(getrecords[1][0])\n",
    "print(getrecords[1][1])\n",
    "print(getrecords[2][0])\n",
    "print(getrecords[2][1])\n",
    "\n",
    "\n"
   ]
  },
  {
   "cell_type": "code",
   "execution_count": 49,
   "metadata": {},
   "outputs": [
    {
     "name": "stdout",
     "output_type": "stream",
     "text": [
      "\n",
      "('k', 'k')\n",
      "('Ragu', 'A')\n",
      "('Rag1u', 'A11')\n",
      "\n",
      "index value  0 k\n",
      "index value  1 k\n",
      "index value  0 Ragu\n",
      "index value  1 A\n",
      "index value  0 Rag1u\n",
      "index value  1 A11\n"
     ]
    }
   ],
   "source": [
    "print(\"\")\n",
    "for record in getrecords:\n",
    "    print(record)\n",
    "print(\"\")\n",
    "for record in getrecords:\n",
    "    for r in range(len(record)):\n",
    "        print(\"index value \", r ,record[r])"
   ]
  }
 ],
 "metadata": {
  "kernelspec": {
   "display_name": "Python 3",
   "language": "python",
   "name": "python3"
  },
  "language_info": {
   "codemirror_mode": {
    "name": "ipython",
    "version": 3
   },
   "file_extension": ".py",
   "mimetype": "text/x-python",
   "name": "python",
   "nbconvert_exporter": "python",
   "pygments_lexer": "ipython3",
   "version": "3.12.4"
  }
 },
 "nbformat": 4,
 "nbformat_minor": 2
}
