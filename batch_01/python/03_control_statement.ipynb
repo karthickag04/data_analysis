{
 "cells": [
  {
   "cell_type": "code",
   "execution_count": 3,
   "metadata": {},
   "outputs": [
    {
     "name": "stdout",
     "output_type": "stream",
     "text": [
      "<class 'bool'>\n"
     ]
    }
   ],
   "source": [
    "print(type(True))"
   ]
  },
  {
   "cell_type": "code",
   "execution_count": 8,
   "metadata": {},
   "outputs": [
    {
     "name": "stdout",
     "output_type": "stream",
     "text": [
      "[10, 20, 30, 'jkjhk', 11.2, [34, 33]]\n",
      "10\n",
      "[22, 20, 30, 'jkjhk', 11.2, [34, 33], [222, 222]]\n",
      "<class 'list'>\n"
     ]
    }
   ],
   "source": [
    "# Initialize list with various elements\n",
    "x = [10, 20, 30, 'jkjhk', 11.2, [34, 33]]\n",
    "print(x)\n",
    "\n",
    "print(x[0])\n",
    "x[0]=22\n",
    "x.append([222,222])\n",
    "print(x)\n",
    "print(type(x))"
   ]
  },
  {
   "cell_type": "code",
   "execution_count": 11,
   "metadata": {},
   "outputs": [
    {
     "name": "stdout",
     "output_type": "stream",
     "text": [
      "(10, 20, 30, 'jkjhk', 11.2, [34, 33])\n",
      "10\n"
     ]
    },
    {
     "ename": "TypeError",
     "evalue": "'tuple' object does not support item assignment",
     "output_type": "error",
     "traceback": [
      "\u001b[1;31m---------------------------------------------------------------------------\u001b[0m",
      "\u001b[1;31mTypeError\u001b[0m                                 Traceback (most recent call last)",
      "Cell \u001b[1;32mIn[11], line 5\u001b[0m\n\u001b[0;32m      3\u001b[0m \u001b[38;5;28mprint\u001b[39m(x)\n\u001b[0;32m      4\u001b[0m \u001b[38;5;28mprint\u001b[39m(x[\u001b[38;5;241m0\u001b[39m])\n\u001b[1;32m----> 5\u001b[0m \u001b[43mx\u001b[49m\u001b[43m[\u001b[49m\u001b[38;5;241;43m0\u001b[39;49m\u001b[43m]\u001b[49m\u001b[38;5;241m=\u001b[39m\u001b[38;5;241m22\u001b[39m\n",
      "\u001b[1;31mTypeError\u001b[0m: 'tuple' object does not support item assignment"
     ]
    }
   ],
   "source": [
    "x = (10, 20, 30, 'jkjhk', 11.2, [34, 33])\n",
    "\n",
    "print(x)\n",
    "print(x[0])\n",
    "x[0]=22"
   ]
  },
  {
   "cell_type": "code",
   "execution_count": null,
   "metadata": {},
   "outputs": [],
   "source": []
  },
  {
   "cell_type": "code",
   "execution_count": 23,
   "metadata": {},
   "outputs": [],
   "source": [
    "x=10\n",
    "_x=10\n",
    "xx_xx=10\n",
    "d3434=10\n",
    "X=11"
   ]
  },
  {
   "cell_type": "code",
   "execution_count": 27,
   "metadata": {},
   "outputs": [
    {
     "name": "stdout",
     "output_type": "stream",
     "text": [
      "x is less than or equal to 1\n"
     ]
    }
   ],
   "source": [
    "x=0\n",
    "if(x>1):\n",
    "    print(\"x is greater than 1\")\n",
    "else:\n",
    "    print(\"x is less than or equal to 1\")"
   ]
  },
  {
   "cell_type": "code",
   "execution_count": 44,
   "metadata": {},
   "outputs": [
    {
     "name": "stdout",
     "output_type": "stream",
     "text": [
      "50  is greater than 10\n",
      "50 is greater than 10\n",
      "(50, 50) is greater than 10\n"
     ]
    }
   ],
   "source": [
    "x=50\n",
    "if(x>10):\n",
    "    print(x,\" is greater than 10\")\n",
    "    print(f\"{x} is greater than 10\")\n",
    "    print(f\"{x,x} is greater than 10\")\n",
    "elif(x==10):\n",
    "    print(\"x is equal to 10\")\n",
    "elif(x==20):\n",
    "    print(\"x is equal to 20\")\n",
    "elif(x==50):\n",
    "    print(\"x is equal to 50\")\n",
    "else:\n",
    "    print(\"x is less than 10\")"
   ]
  },
  {
   "cell_type": "code",
   "execution_count": 2,
   "metadata": {},
   "outputs": [
    {
     "name": "stdout",
     "output_type": "stream",
     "text": [
      "you are eligible to vote\n"
     ]
    }
   ],
   "source": [
    "op='-'\n",
    "x=10\n",
    "y=20\n",
    "country=\"india\"\n",
    "state='tn'\n",
    "age=25\n",
    "if(country=='india' and age >=18 or state==\"tn\"):\n",
    "    print(\"you are eligible to vote\")\n",
    "elif(op=='-'):\n",
    "    print(x-y)\n"
   ]
  },
  {
   "cell_type": "code",
   "execution_count": 47,
   "metadata": {},
   "outputs": [],
   "source": [
    "age = 18\n",
    "country= \"india\"\n"
   ]
  }
 ],
 "metadata": {
  "kernelspec": {
   "display_name": "Python 3",
   "language": "python",
   "name": "python3"
  },
  "language_info": {
   "codemirror_mode": {
    "name": "ipython",
    "version": 3
   },
   "file_extension": ".py",
   "mimetype": "text/x-python",
   "name": "python",
   "nbconvert_exporter": "python",
   "pygments_lexer": "ipython3",
   "version": "3.12.4"
  }
 },
 "nbformat": 4,
 "nbformat_minor": 2
}
