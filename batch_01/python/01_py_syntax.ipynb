{
 "cells": [
  {
   "cell_type": "code",
   "execution_count": null,
   "id": "1a2b3c",
   "metadata": {},
   "outputs": [],
   "source": [
    "# syntax to print welcome message\n",
    "print(\"welcome to python\")"
   ]
  },
  {
   "cell_type": "code",
   "execution_count": null,
   "id": "03f5d7c8",
   "metadata": {},
   "outputs": [],
   "source": [
    "# comments\n",
    "\n",
    "# this is single line comments\n",
    "\"\"\"\n",
    "this\n",
    "is\n",
    "multiline\n",
    "comments\n",
    "\n",
    "these comments will not be executed by the python compiler. \n",
    "it is for your/anyone's understading or future reference\n",
    "\n",
    "\"\"\""
   ]
  },
  {
   "cell_type": "code",
   "execution_count": null,
   "id": "4d5e6f",
   "metadata": {},
   "outputs": [],
   "source": [
    "# Initialize variables\n",
    "x = 104\n",
    "y = 11.1\n",
    "lname = \"karthick\"  # Last name\n",
    "fname = 'AG'  # First name\n",
    "areaname = 'TN-\\'Trichy'  # Area name with an escaped single quote\n",
    "longstr = \"\"\"welcome to python\n",
    "programming\n",
    "first session on accessing tools\n",
    "welcome to python\n",
    "\n",
    "programming\n",
    "first session on accessing tools\n",
    "welcome to python\n",
    "programming\n",
    "first session on accessing tools\n",
    "\"\"\""
   ]
  },
  {
   "cell_type": "code",
   "execution_count": null,
   "id": "7g8h9i",
   "metadata": {},
   "outputs": [],
   "source": [
    "# Print types of variables\n",
    "print(type(x))\n",
    "print(type(y))\n",
    "print(type(fname))\n",
    "print(type(lname))\n",
    "print(type(areaname))\n",
    "print(type(longstr))"
   ]
  },
  {
   "cell_type": "code",
   "execution_count": null,
   "id": "0j1k2l",
   "metadata": {},
   "outputs": [],
   "source": [
    "# Print values of variables\n",
    "print(x)\n",
    "print(y)\n",
    "print(fname)\n",
    "print(areaname)\n",
    "print(lname)\n",
    "print(longstr)"
   ]
  },
  {
   "cell_type": "code",
   "execution_count": null,
   "id": "3m4n5o",
   "metadata": {},
   "outputs": [],
   "source": [
    "# Print messages with quotes\n",
    "print(\"welcome to python's class\")\n",
    "print('welcome to python\"s class')"
   ]
  },
  {
   "cell_type": "code",
   "execution_count": null,
   "id": "6p7q8r",
   "metadata": {},
   "outputs": [],
   "source": [
    "# Initialize list with various elements\n",
    "x = [10, 20, 30]\n",
    "x = [10, 20, 30, 'jkjhk']\n",
    "x = [10, 20, 30, 'jkjhk', 11.2, [34, 33]]\n",
    "print(x)"
   ]
  }
 ],
 "metadata": {
  "kernelspec": {
   "display_name": "Python 3",
   "language": "python",
   "name": "python3"
  },
  "language_info": {
   "codemirror_mode": {
    "name": "ipython",
    "version": 3
   },
   "file_extension": ".py",
   "mimetype": "text/x-python",
   "name": "python",
   "nbconvert_exporter": "python",
   "pygments_lexer": "ipython3",
   "version": "3.12.4"
  }
 },
 "nbformat": 4,
 "nbformat_minor": 5
}
