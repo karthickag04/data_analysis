{
 "cells": [
  {
   "cell_type": "code",
   "execution_count": 1,
   "metadata": {},
   "outputs": [],
   "source": [
    "import mysql.connector\n",
    "from mysql.connector import Error\n"
   ]
  },
  {
   "cell_type": "code",
   "execution_count": 34,
   "metadata": {},
   "outputs": [],
   "source": [
    "def mydbcon():\n",
    "    try:\n",
    "        # Establish the connection\n",
    "        connection = mysql.connector.connect(\n",
    "            host='192.168.29.244',          # Replace with your MySQL server address\n",
    "            database='a',   # Replace with your database name\n",
    "            user='test01',       # Replace with your MySQL username\n",
    "            password='test@123'    # Replace with your MySQL password\n",
    "        )\n",
    "\n",
    "        if connection.is_connected():\n",
    "            print('Connected to MySQL Database')\n",
    "\n",
    "    except Error as e:\n",
    "            print(f\"Error: {e}\")\n",
    "            if \"Access denied\" in str(e):\n",
    "                print(\"Error: Invalid username or password\")\n",
    "            elif \"Unknown database\" in str(e):\n",
    "                print(\"Error: Database does not exist\")\n",
    "            else:\n",
    "                print(f\"Error connecting to MySQL: {e}\")\n",
    "        \n",
    "    # else:\n",
    "    #     return connection\n",
    "    \n",
    "    # finally:\n",
    "    #     if connection.is_connected():\n",
    "    #         connection.close()\n",
    "    #         print(\"MySQL connection is closed\")\n",
    "    return connection\n"
   ]
  },
  {
   "cell_type": "code",
   "execution_count": 22,
   "metadata": {},
   "outputs": [
    {
     "name": "stdout",
     "output_type": "stream",
     "text": [
      "Connected to MySQL Database\n",
      "connection established at : <mysql.connector.connection.MySQLConnection object at 0x0000023644AECFB0>\n"
     ]
    }
   ],
   "source": [
    "print(\"connection established at :\", mydbcon())"
   ]
  },
  {
   "cell_type": "code",
   "execution_count": 32,
   "metadata": {},
   "outputs": [
    {
     "data": {
      "text/plain": [
       "'select value1 from record;'"
      ]
     },
     "execution_count": 32,
     "metadata": {},
     "output_type": "execute_result"
    }
   ],
   "source": [
    "statement=\"select value1 from record;\"\n",
    "statement"
   ]
  },
  {
   "cell_type": "code",
   "execution_count": 33,
   "metadata": {},
   "outputs": [
    {
     "name": "stdout",
     "output_type": "stream",
     "text": [
      "Connected to MySQL Database\n",
      "[(12,), (234,), (1,), (11,), (222,)]\n",
      "\n",
      "(12,)\n",
      "(234,)\n",
      "(1,)\n",
      "(11,)\n",
      "(222,)\n",
      "\n",
      "index value  0 12\n",
      "index value  0 234\n",
      "index value  0 1\n",
      "index value  0 11\n",
      "index value  0 222\n"
     ]
    }
   ],
   "source": [
    "con=mydbcon()\n",
    "result=con.cursor()\n",
    "# result.execute(\"SELECT * FROM table_name\")\n",
    "result.execute(statement)\n",
    "listofresult=result.fetchall()\n",
    "con.close()\n",
    "\n",
    "print(listofresult)\n",
    "print(\"\")\n",
    "for record in listofresult:\n",
    "    print(record)\n",
    "print(\"\")\n",
    "for record in listofresult:\n",
    "    for r in range(len(record)):\n",
    "        print(\"index value \", r ,record[r])"
   ]
  }
 ],
 "metadata": {
  "kernelspec": {
   "display_name": "Python 3",
   "language": "python",
   "name": "python3"
  },
  "language_info": {
   "codemirror_mode": {
    "name": "ipython",
    "version": 3
   },
   "file_extension": ".py",
   "mimetype": "text/x-python",
   "name": "python",
   "nbconvert_exporter": "python",
   "pygments_lexer": "ipython3",
   "version": "3.12.4"
  }
 },
 "nbformat": 4,
 "nbformat_minor": 2
}
