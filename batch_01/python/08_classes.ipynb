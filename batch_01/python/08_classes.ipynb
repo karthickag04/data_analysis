{
 "cells": [
  {
   "cell_type": "code",
   "execution_count": 9,
   "id": "f984d23a-1c8c-4451-bdba-c81049497659",
   "metadata": {},
   "outputs": [],
   "source": [
    "class operatordemo():\n",
    "    def add(self):\n",
    "        x = 10\n",
    "        y = 10\n",
    "        print(\"added value is \", x+y)\n",
    "        \n",
    "    def subtract(self):\n",
    "        x = 10\n",
    "        y = 10\n",
    "        print(\"subtracted value is \", x-y)\n",
    "        \n",
    "    def multiply(self):\n",
    "        x = 10\n",
    "        y = 10\n",
    "        print(\"multiplied value is \", x*y)\n",
    "        \n",
    "    def division(self):\n",
    "        x = 10\n",
    "        y = 10\n",
    "        print(\"Division of x and y \", x-y)\n",
    "        \n",
    "    def expo(self):\n",
    "        x = 10\n",
    "        y = 10\n",
    "        print(\"found expo value is \", x**y)\n",
    "        \n",
    "    def floordivition(self):\n",
    "        x = 10\n",
    "        y = 10\n",
    "        print(\"floor division value is \", x//y)\n",
    "        "
   ]
  },
  {
   "cell_type": "code",
   "execution_count": 1,
   "id": "c0fef59a",
   "metadata": {},
   "outputs": [],
   "source": [
    "def add():\n",
    "        x = 10\n",
    "        y = 10\n",
    "        print(\"added value is \", x+y)\n",
    "        # return x + y"
   ]
  },
  {
   "cell_type": "code",
   "execution_count": 2,
   "id": "ff45c92d",
   "metadata": {},
   "outputs": [
    {
     "name": "stdout",
     "output_type": "stream",
     "text": [
      "added value is  20\n"
     ]
    }
   ],
   "source": [
    "add()"
   ]
  },
  {
   "cell_type": "code",
   "execution_count": 11,
   "id": "152ab8f1",
   "metadata": {},
   "outputs": [
    {
     "name": "stdout",
     "output_type": "stream",
     "text": [
      "added value is  20\n",
      "subtracted value is  0\n",
      "Division of x and y  0\n",
      "multiplied value is  100\n",
      "floor division value is  1\n",
      "found expo value is  10000000000\n"
     ]
    }
   ],
   "source": [
    "op=operatordemo()\n",
    "op.add()\n",
    "op.subtract()\n",
    "op.division()\n",
    "op.multiply()\n",
    "op.floordivition()\n",
    "op.expo()"
   ]
  },
  {
   "cell_type": "code",
   "execution_count": null,
   "id": "f1221b2e",
   "metadata": {},
   "outputs": [],
   "source": []
  },
  {
   "cell_type": "code",
   "execution_count": 14,
   "id": "a33872c1",
   "metadata": {},
   "outputs": [],
   "source": [
    "class operatordemo1():\n",
    "    def add(self):\n",
    "        x = 10\n",
    "        y = 10\n",
    "        return x+y\n",
    "        \n",
    "    def subtract(self):\n",
    "        x = 10\n",
    "        y = 10\n",
    "        return x-y\n",
    "        \n",
    "    def multiply(self):\n",
    "        x = 10\n",
    "        y = 10\n",
    "        return x*y\n",
    "        \n",
    "    def division(self):\n",
    "        x = 10\n",
    "        y = 10\n",
    "\n",
    "        return x/y\n",
    "\n",
    "    def expo(self):\n",
    "        x = 10\n",
    "        y = 10\n",
    "        return x ** y\n",
    "    \n",
    "    \n",
    "    def floordivition(self):\n",
    "        x = 10\n",
    "        y = 10\n",
    "        return x//y\n"
   ]
  },
  {
   "cell_type": "code",
   "execution_count": 16,
   "id": "fd92b87a",
   "metadata": {},
   "outputs": [
    {
     "name": "stdout",
     "output_type": "stream",
     "text": [
      "added value is  20\n",
      "subtracted value is  0\n",
      "multiplied value is  100\n",
      "Division of x and y  1.0\n",
      "found expo value is  10000000000\n",
      "floor division value is  1\n"
     ]
    }
   ],
   "source": [
    "op1=operatordemo1()\n",
    "print(\"added value is \", op1.add())\n",
    "print(\"subtracted value is \", op1.subtract())\n",
    "print(\"multiplied value is \", op1.multiply())\n",
    "print(\"Division of x and y \", op1.division())\n",
    "print(\"found expo value is \", op1.expo())\n",
    "print(\"floor division value is \", op1.floordivition())\n"
   ]
  },
  {
   "cell_type": "code",
   "execution_count": null,
   "id": "34f092f8",
   "metadata": {},
   "outputs": [],
   "source": []
  },
  {
   "cell_type": "code",
   "execution_count": 17,
   "id": "45d1b651",
   "metadata": {},
   "outputs": [],
   "source": [
    "class operatordemo2():\n",
    "    \n",
    "    def add(self,x,y):\n",
    "       return x+y\n",
    "    def subtract(self,x,y):\n",
    "        return x-y\n",
    "    def multiply(self,x,y):\n",
    "        return x*y\n",
    "    def division(self,x,y):\n",
    "        return x/y\n",
    "    def expo(self,x,y):\n",
    "        return x ** y\n",
    "    def floordivition(self,x,y):\n",
    "        return x//y\n"
   ]
  },
  {
   "cell_type": "code",
   "execution_count": 19,
   "id": "88a87671",
   "metadata": {},
   "outputs": [
    {
     "name": "stdout",
     "output_type": "stream",
     "text": [
      "added value is  30\n",
      "subtracted value is  -10\n",
      "multiplied value is  200\n",
      "Division of x and y  0.5\n",
      "found expo value is  100000000000000000000\n",
      "floor division value is  0\n"
     ]
    }
   ],
   "source": [
    "op2=operatordemo2()\n",
    "print(\"added value is \", op2.add(10,20))\n",
    "print(\"subtracted value is \", op2.subtract(10,20))\n",
    "print(\"multiplied value is \", op2.multiply(10,20))\n",
    "print(\"Division of x and y \", op2.division(10,20))\n",
    "print(\"found expo value is \", op2.expo(10,20))\n",
    "print(\"floor division value is \", op2.floordivition(10,20))"
   ]
  },
  {
   "cell_type": "code",
   "execution_count": 21,
   "id": "147e54f3",
   "metadata": {},
   "outputs": [
    {
     "name": "stdout",
     "output_type": "stream",
     "text": [
      "added value is  32\n",
      "subtracted value is  -10\n",
      "multiplied value is  231\n",
      "Division of x and y  0.5238095238095238\n",
      "found expo value is  7400249944258160101211\n",
      "floor division value is  0\n"
     ]
    }
   ],
   "source": [
    "op2=operatordemo2()\n",
    "x=11\n",
    "y=21\n",
    "print(\"added value is \", op2.add(x,y))\n",
    "print(\"subtracted value is \", op2.subtract(x,y))\n",
    "print(\"multiplied value is \", op2.multiply(x,y))\n",
    "print(\"Division of x and y \", op2.division(x,y))\n",
    "print(\"found expo value is \", op2.expo(x,y))\n",
    "print(\"floor division value is \", op2.floordivition(x,y))"
   ]
  },
  {
   "cell_type": "code",
   "execution_count": null,
   "id": "52becca0",
   "metadata": {},
   "outputs": [],
   "source": []
  },
  {
   "cell_type": "code",
   "execution_count": 22,
   "id": "f452ca91",
   "metadata": {},
   "outputs": [],
   "source": [
    "class operatordemo3():\n",
    "\n",
    "    def __init__(self,x,y):\n",
    "        \n",
    "        print(\"added value is \", self.add(x,y))\n",
    "        print(\"subtracted value is \", self.subtract(x,y))\n",
    "        print(\"multiplied value is \", self.multiply(x,y))\n",
    "        print(\"Division of x and y \", self.division(x,y))\n",
    "        print(\"found expo value is \", self.expo(x,y))\n",
    "        print(\"floor division value is \", self.floordivition(x,y))\n",
    "            \n",
    "    def add(self,x,y):\n",
    "       return x+y\n",
    "    def subtract(self,x,y):\n",
    "        return x-y\n",
    "    def multiply(self,x,y):\n",
    "        return x*y\n",
    "    def division(self,x,y):\n",
    "        return x/y\n",
    "    def expo(self,x,y):\n",
    "        return x ** y\n",
    "    def floordivition(self,x,y):\n",
    "        return x//y"
   ]
  },
  {
   "cell_type": "code",
   "execution_count": 24,
   "id": "3d4021a0",
   "metadata": {},
   "outputs": [
    {
     "name": "stdout",
     "output_type": "stream",
     "text": [
      "added value is  30\n",
      "subtracted value is  -10\n",
      "multiplied value is  200\n",
      "Division of x and y  0.5\n",
      "found expo value is  100000000000000000000\n",
      "floor division value is  0\n"
     ]
    }
   ],
   "source": [
    "op3=operatordemo3(10,20)"
   ]
  }
 ],
 "metadata": {
  "kernelspec": {
   "display_name": "Python 3 (ipykernel)",
   "language": "python",
   "name": "python3"
  },
  "language_info": {
   "codemirror_mode": {
    "name": "ipython",
    "version": 3
   },
   "file_extension": ".py",
   "mimetype": "text/x-python",
   "name": "python",
   "nbconvert_exporter": "python",
   "pygments_lexer": "ipython3",
   "version": "3.12.4"
  }
 },
 "nbformat": 4,
 "nbformat_minor": 5
}
