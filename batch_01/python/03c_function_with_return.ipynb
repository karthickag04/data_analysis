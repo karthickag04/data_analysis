{
 "cells": [
  {
   "cell_type": "code",
   "execution_count": 3,
   "id": "64b522df-39dd-476a-a0e3-71f88ccf9c7b",
   "metadata": {},
   "outputs": [],
   "source": [
    "def addition():\n",
    "    x = 10\n",
    "    y = 10\n",
    "    # print(\"added value of x + y is \", x+y)\n",
    "    print(x+y)"
   ]
  },
  {
   "cell_type": "code",
   "execution_count": 5,
   "id": "2c4b4f1a",
   "metadata": {},
   "outputs": [
    {
     "name": "stdout",
     "output_type": "stream",
     "text": [
      "20\n"
     ]
    }
   ],
   "source": [
    "addition() "
   ]
  },
  {
   "cell_type": "code",
   "execution_count": 7,
   "id": "6c3f9413",
   "metadata": {},
   "outputs": [
    {
     "name": "stdout",
     "output_type": "stream",
     "text": [
      "20\n"
     ]
    },
    {
     "data": {
      "text/plain": [
       "False"
      ]
     },
     "execution_count": 7,
     "metadata": {},
     "output_type": "execute_result"
    }
   ],
   "source": [
    "20 == addition()"
   ]
  },
  {
   "cell_type": "code",
   "execution_count": 12,
   "id": "7c210585",
   "metadata": {},
   "outputs": [],
   "source": [
    "def additionwithreturn():\n",
    "    x = 10\n",
    "    y = 10\n",
    "    return x+y"
   ]
  },
  {
   "cell_type": "code",
   "execution_count": 11,
   "id": "930099bd",
   "metadata": {},
   "outputs": [
    {
     "name": "stdout",
     "output_type": "stream",
     "text": [
      "added value of x + y is  20\n"
     ]
    },
    {
     "data": {
      "text/plain": [
       "True"
      ]
     },
     "execution_count": 11,
     "metadata": {},
     "output_type": "execute_result"
    }
   ],
   "source": [
    "20 == additionwithreturn()"
   ]
  },
  {
   "cell_type": "code",
   "execution_count": 13,
   "id": "b090c9b0",
   "metadata": {},
   "outputs": [
    {
     "name": "stdout",
     "output_type": "stream",
     "text": [
      "added value of x + y is  20\n"
     ]
    }
   ],
   "source": [
    "print(\"added value of x + y is \", additionwithreturn())"
   ]
  },
  {
   "cell_type": "code",
   "execution_count": 16,
   "id": "7e3b0856",
   "metadata": {},
   "outputs": [],
   "source": [
    "def additionwithreturn(x,y):\n",
    "    return x+y\n",
    "def multiplywithreturn(x,y):\n",
    "    return x*y"
   ]
  },
  {
   "cell_type": "code",
   "execution_count": 18,
   "id": "bb2ff839",
   "metadata": {},
   "outputs": [
    {
     "name": "stdout",
     "output_type": "stream",
     "text": [
      "added value of x + y is  30\n",
      "Multiplication of x and y is  200\n"
     ]
    }
   ],
   "source": [
    "print(\"added value of x + y is \", additionwithreturn(10,20))\n",
    "print(\"Multiplication of x and y is \", multiplywithreturn(10,20))"
   ]
  },
  {
   "cell_type": "code",
   "execution_count": 34,
   "id": "48274743",
   "metadata": {},
   "outputs": [],
   "source": [
    "# checking the same with string type"
   ]
  },
  {
   "cell_type": "code",
   "execution_count": 23,
   "id": "485ae788",
   "metadata": {},
   "outputs": [],
   "source": [
    "def car():\n",
    "    print(\"i have car\")\n"
   ]
  },
  {
   "cell_type": "code",
   "execution_count": 24,
   "id": "5a37581e-c3d6-4a84-a4a0-62589e2576da",
   "metadata": {},
   "outputs": [],
   "source": [
    "def car1():\n",
    "    return \"i have car\""
   ]
  },
  {
   "cell_type": "code",
   "execution_count": 33,
   "id": "25fc3a23-8fa1-4b4a-bec6-056306522409",
   "metadata": {},
   "outputs": [
    {
     "name": "stdout",
     "output_type": "stream",
     "text": [
      "i have car\n",
      "i have car\n",
      "\n",
      "i have car\n",
      "False\n",
      "\n",
      "True\n"
     ]
    }
   ],
   "source": [
    "car()\n",
    "print(car1())\n",
    "# trying to assign the output to variable without return type\n",
    "print(\"\")\n",
    "print(car() == \"i have car\")\n",
    "print(\"\")\n",
    "print(car1() == \"i have car\")\n"
   ]
  }
 ],
 "metadata": {
  "kernelspec": {
   "display_name": "Python 3 (ipykernel)",
   "language": "python",
   "name": "python3"
  },
  "language_info": {
   "codemirror_mode": {
    "name": "ipython",
    "version": 3
   },
   "file_extension": ".py",
   "mimetype": "text/x-python",
   "name": "python",
   "nbconvert_exporter": "python",
   "pygments_lexer": "ipython3",
   "version": "3.12.4"
  }
 },
 "nbformat": 4,
 "nbformat_minor": 5
}
