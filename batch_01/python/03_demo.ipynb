{
 "cells": [
  {
   "cell_type": "code",
   "execution_count": 3,
   "metadata": {},
   "outputs": [
    {
     "name": "stdout",
     "output_type": "stream",
     "text": [
      "<class 'bool'>\n"
     ]
    }
   ],
   "source": [
    "print(type(True))"
   ]
  },
  {
   "cell_type": "code",
   "execution_count": 8,
   "metadata": {},
   "outputs": [
    {
     "name": "stdout",
     "output_type": "stream",
     "text": [
      "[10, 20, 30, 'jkjhk', 11.2, [34, 33]]\n",
      "10\n",
      "[22, 20, 30, 'jkjhk', 11.2, [34, 33], [222, 222]]\n",
      "<class 'list'>\n"
     ]
    }
   ],
   "source": [
    "# Initialize list with various elements\n",
    "x = [10, 20, 30, 'jkjhk', 11.2, [34, 33]]\n",
    "print(x)\n",
    "\n",
    "print(x[0])\n",
    "x[0]=22\n",
    "x.append([222,222])\n",
    "print(x)\n",
    "print(type(x))"
   ]
  },
  {
   "cell_type": "code",
   "execution_count": 11,
   "metadata": {},
   "outputs": [
    {
     "name": "stdout",
     "output_type": "stream",
     "text": [
      "(10, 20, 30, 'jkjhk', 11.2, [34, 33])\n",
      "10\n"
     ]
    },
    {
     "ename": "TypeError",
     "evalue": "'tuple' object does not support item assignment",
     "output_type": "error",
     "traceback": [
      "\u001b[1;31m---------------------------------------------------------------------------\u001b[0m",
      "\u001b[1;31mTypeError\u001b[0m                                 Traceback (most recent call last)",
      "Cell \u001b[1;32mIn[11], line 5\u001b[0m\n\u001b[0;32m      3\u001b[0m \u001b[38;5;28mprint\u001b[39m(x)\n\u001b[0;32m      4\u001b[0m \u001b[38;5;28mprint\u001b[39m(x[\u001b[38;5;241m0\u001b[39m])\n\u001b[1;32m----> 5\u001b[0m \u001b[43mx\u001b[49m\u001b[43m[\u001b[49m\u001b[38;5;241;43m0\u001b[39;49m\u001b[43m]\u001b[49m\u001b[38;5;241m=\u001b[39m\u001b[38;5;241m22\u001b[39m\n",
      "\u001b[1;31mTypeError\u001b[0m: 'tuple' object does not support item assignment"
     ]
    }
   ],
   "source": [
    "x = (10, 20, 30, 'jkjhk', 11.2, [34, 33])\n",
    "\n",
    "print(x)\n",
    "print(x[0])\n",
    "x[0]=22"
   ]
  },
  {
   "cell_type": "code",
   "execution_count": null,
   "metadata": {},
   "outputs": [],
   "source": []
  },
  {
   "cell_type": "code",
   "execution_count": 23,
   "metadata": {},
   "outputs": [],
   "source": [
    "x=10\n",
    "_x=10\n",
    "xx_xx=10\n",
    "d3434=10\n",
    "X=11"
   ]
  },
  {
   "cell_type": "code",
   "execution_count": 27,
   "metadata": {},
   "outputs": [
    {
     "name": "stdout",
     "output_type": "stream",
     "text": [
      "x is less than or equal to 1\n"
     ]
    }
   ],
   "source": [
    "x=0\n",
    "if(x>1):\n",
    "    print(\"x is greater than 1\")\n",
    "else:\n",
    "    print(\"x is less than or equal to 1\")"
   ]
  },
  {
   "cell_type": "code",
   "execution_count": 44,
   "metadata": {},
   "outputs": [
    {
     "name": "stdout",
     "output_type": "stream",
     "text": [
      "50  is greater than 10\n",
      "50 is greater than 10\n",
      "(50, 50) is greater than 10\n"
     ]
    }
   ],
   "source": [
    "x=50\n",
    "if(x>10):\n",
    "    print(x,\" is greater than 10\")\n",
    "    print(f\"{x} is greater than 10\")\n",
    "    print(f\"{x,x} is greater than 10\")\n",
    "elif(x==10):\n",
    "    print(\"x is equal to 10\")\n",
    "elif(x==20):\n",
    "    print(\"x is equal to 20\")\n",
    "elif(x==50):\n",
    "    print(\"x is equal to 50\")\n",
    "else:\n",
    "    print(\"x is less than 10\")"
   ]
  },
  {
   "cell_type": "code",
   "execution_count": 46,
   "metadata": {},
   "outputs": [
    {
     "name": "stdout",
     "output_type": "stream",
     "text": [
      "-10\n"
     ]
    }
   ],
   "source": [
    "op='-'\n",
    "x=10\n",
    "y=20\n",
    "country=\"india\"\n",
    "if(country=='india' and age >=18 or state==):\n",
    "\n",
    "elif(op=='-'):\n",
    "    print(x-y)\n",
    "\n"
   ]
  },
  {
   "cell_type": "code",
   "execution_count": 47,
   "metadata": {},
   "outputs": [],
   "source": [
    "age = 18\n",
    "country= \"india\"\n"
   ]
  },
  {
   "cell_type": "code",
   "execution_count": 48,
   "metadata": {},
   "outputs": [],
   "source": [
    "def addition():\n",
    "    num1 = int(input(\"Enter the first number: \"))\n",
    "    num2 = int(input(\"Enter the second number: \"))\n",
    "    print(\"The sum of the two numbers is: \", num1 + num2)"
   ]
  },
  {
   "cell_type": "code",
   "execution_count": 49,
   "metadata": {},
   "outputs": [
    {
     "name": "stdout",
     "output_type": "stream",
     "text": [
      "The sum of the two numbers is:  23\n"
     ]
    }
   ],
   "source": [
    "addition()"
   ]
  },
  {
   "cell_type": "code",
   "execution_count": 54,
   "metadata": {},
   "outputs": [],
   "source": [
    "def addition1(a,b,op):\n",
    "    num1 = int(a)\n",
    "    num2 = int(b)\n",
    "    if(op==\"+\"):\n",
    "        print(\"The sum of the two numbers is: \", num1 + num2)\n",
    "    elif(op==\"-\"):\n",
    "        print(\"the subtracted value of a and b is ..\", num1-num2)\n",
    "        "
   ]
  },
  {
   "cell_type": "code",
   "execution_count": 55,
   "metadata": {},
   "outputs": [
    {
     "name": "stdout",
     "output_type": "stream",
     "text": [
      "the subtracted value of a and b is .. -1\n"
     ]
    }
   ],
   "source": [
    "addition1(10,11,'-')"
   ]
  },
  {
   "cell_type": "code",
   "execution_count": null,
   "metadata": {},
   "outputs": [],
   "source": []
  }
 ],
 "metadata": {
  "kernelspec": {
   "display_name": "Python 3",
   "language": "python",
   "name": "python3"
  },
  "language_info": {
   "codemirror_mode": {
    "name": "ipython",
    "version": 3
   },
   "file_extension": ".py",
   "mimetype": "text/x-python",
   "name": "python",
   "nbconvert_exporter": "python",
   "pygments_lexer": "ipython3",
   "version": "3.12.4"
  }
 },
 "nbformat": 4,
 "nbformat_minor": 2
}
